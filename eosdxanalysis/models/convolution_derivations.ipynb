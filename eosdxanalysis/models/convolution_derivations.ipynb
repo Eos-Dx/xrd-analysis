{
 "cells": [
  {
   "cell_type": "markdown",
   "id": "915aab19",
   "metadata": {},
   "source": [
    "# Derivations for calculating the convolution of a 2D Gaussian with an arc"
   ]
  },
  {
   "cell_type": "markdown",
   "id": "d5f616c8",
   "metadata": {},
   "source": [
    "## Definitions\n",
    "\n",
    "Define the *unit step function* (Heaviside function) as\n",
    "\n",
    "\\begin{equation}\n",
    "    H(t|t_0) = \\begin{cases}\n",
    "                                0       & t\\lt t_0 \\cr\n",
    "                              1       & t\\ge t_0\n",
    "               \\end{cases}.\n",
    "\\end{equation}\n",
    "\n",
    "Define the *top-hat function* as \n",
    "\\begin{equation}\n",
    "    T(t|t_1,t_2) = \\begin{cases}       \n",
    "                        0       & t\\lt t_1 \\cr\n",
    "                                  1       & t_1 \\le t \\le t_2 \\cr\n",
    "                                  0       & t\\gt t_2 \\cr\n",
    "                    \\end{cases}.\n",
    "\\end{equation}\n",
    "\n",
    "Define the *dirac delta function* as\n",
    "\\begin{equation}\n",
    "    \\delta(t-t_0) = \\begin{cases}\n",
    "                        0       & t\\neq t_0 \\cr\n",
    "                                  1       & t =t_0\n",
    "                      \\end{cases}.\n",
    "\\end{equation}\n",
    "\n",
    "Define the *arc function* in polar coordinates. It is constructed from a product of the top-hat function and the dirac delta function as\n",
    "\\begin{equation}\n",
    "    A(r|r_0,\\theta_1,\\theta_2) = \\delta(r-r_0)T(\\theta|\\theta_1, \\theta_2)\n",
    "\\end{equation}\n",
    "\n",
    "The *2D isotropic Gaussian function* is defined in Cartesian coordinates as\n",
    "\\begin{equation}\n",
    "        G(x,y) = a \\exp\\left[ -\\frac{1}{2\\sigma^2}\\left( x^2 + y^2 \\right)\\right],\n",
    "\\end{equation}\n",
    "where parameter $a$ is the peak amplitude (value at the origin), and $\\sigma$ is the standard deviation. Note that $x$ and $y$ are uncorrelated, and  $\\sigma = \\sigma_x = \\sigma_y$. The function is also centered at the origin, i.e. $\\mu = \\mu_x = \\mu_y$."
   ]
  },
  {
   "cell_type": "markdown",
   "id": "668d761a",
   "metadata": {},
   "source": [
    "## Derivations\n",
    "\n",
    "The goal is to obtain an expression for the convolution of an isotropic 2D Gaussian with the arc function, as defined above.\n"
   ]
  }
 ],
 "metadata": {
  "kernelspec": {
   "display_name": "Python 3 (ipykernel)",
   "language": "python",
   "name": "python3"
  },
  "language_info": {
   "codemirror_mode": {
    "name": "ipython",
    "version": 3
   },
   "file_extension": ".py",
   "mimetype": "text/x-python",
   "name": "python",
   "nbconvert_exporter": "python",
   "pygments_lexer": "ipython3",
   "version": "3.10.4"
  }
 },
 "nbformat": 4,
 "nbformat_minor": 5
}
