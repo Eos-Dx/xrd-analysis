{
 "cells": [
  {
   "cell_type": "markdown",
   "id": "533c250c",
   "metadata": {},
   "source": [
    "# Derivations for calculating the sample-to-detector distance from a calibration sample diffraction image"
   ]
  },
  {
   "cell_type": "markdown",
   "id": "01615fe7",
   "metadata": {},
   "source": [
    "## Definitions\n",
    "\n",
    "Define $q_n$ as\n",
    "\n",
    "\\begin{equation}\n",
    "    q_n = \\frac{4\\pi\\sin{\\theta_n}}{\\lambda},\n",
    "\\end{equation}\n",
    "\n",
    "where $\\theta_n$ refers to the $n^{th}$-order Bragg peak, $q_n$ is the wavelength-agnostic peak location, and the units of $q_n$ and $\\lambda$ are inverse of each other.\n",
    "\n",
    "We also have a triangle from our sample to the nth order peak on the detector:\n",
    "\\begin{equation}\n",
    "    \\tan{2\\theta_n} = \\frac{\\tilde{r}_n}{L},\n",
    "\\end{equation}\n",
    "\n",
    "where $\\tilde{r}_n$ is the location of the nth order peak and $L$ is the sample-to-detector distance. The units of $r_n$ and $L$ must match."
   ]
  },
  {
   "cell_type": "markdown",
   "id": "9832db7d",
   "metadata": {},
   "source": [
    "## Derivations\n",
    "\n",
    "The goal is to obtain an expression for $L$, the sample-to-detector distance.\n",
    "\n",
    "Solve for $\\theta$ in both equations above:\n",
    "\n",
    "\\begin{equation}\n",
    "    \\theta_n = \\sin^{-1}{\\frac{q_n\\lambda}{4\\pi}}\n",
    "\\end{equation}\n",
    "\n",
    "\\begin{equation}\n",
    "    \\theta_n = \\frac{1}{2}\\tan^{-1}{\\frac{\\tilde{r}_n}{L}}.\n",
    "\\end{equation}\n",
    "\n",
    "Now set these two equations equal,\n",
    "\\begin{equation}\n",
    "    \\sin^{-1}{\\frac{q_n\\lambda}{4\\pi}} = \\frac{1}{2}\\tan^{-1}{\\frac{\\tilde{r}_n}{L}},\n",
    "\\end{equation}\n",
    "\n",
    "and, finally, solve for $L$:\n",
    "\\begin{equation}\n",
    "    L = \\frac{\\tilde{r}_n}{\\tan{\\left[2\\sin^{-1}{\\frac{q_n\\lambda}{4\\pi}}\\right]}}\n",
    "\\end{equation}"
   ]
  },
  {
   "cell_type": "markdown",
   "id": "ec6e0d3b",
   "metadata": {},
   "source": [
    "## Linear regression\n",
    "\n",
    "If we plot $\\tan{\\left[2\\sin^{-1}{\\frac{q_n\\lambda}{4\\pi}}\\right]}$ vs. $\\tilde{r}_n$, the slope will be L."
   ]
  }
 ],
 "metadata": {
  "kernelspec": {
   "display_name": "Python 3 (ipykernel)",
   "language": "python",
   "name": "python3"
  },
  "language_info": {
   "codemirror_mode": {
    "name": "ipython",
    "version": 3
   },
   "file_extension": ".py",
   "mimetype": "text/x-python",
   "name": "python",
   "nbconvert_exporter": "python",
   "pygments_lexer": "ipython3",
   "version": "3.10.4"
  }
 },
 "nbformat": 4,
 "nbformat_minor": 5
}
