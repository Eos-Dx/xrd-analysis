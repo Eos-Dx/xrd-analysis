{
 "cells": [
  {
   "cell_type": "markdown",
   "id": "533c250c",
   "metadata": {},
   "source": [
    "# Derivations for calculating the sample-to-detector distance from a calibration sample diffraction image"
   ]
  },
  {
   "cell_type": "markdown",
   "id": "01615fe7",
   "metadata": {},
   "source": [
    "## Definitions\n",
    "\n",
    "Define $q_n$ as\n",
    "\n",
    "\\begin{equation}\n",
    "    q_n = \\frac{4\\pi\\sin{\\theta_n}}{\\lambda},\n",
    "\\end{equation}\n",
    "\n",
    "where $\\theta_n$ refers to the $n^{th}$-order Bragg peak, $q_n$ is the wavelength-agnostic peak location, and the units of $q_n$ and $\\lambda$ are inverse of each other.\n",
    "\n",
    "We also have a triangle from our sample to the nth order peak on the detector, giving the relation\n",
    "\\begin{equation}\n",
    "    \\tan{2\\tilde{\\theta}_n} = \\frac{\\tilde{r}_n}{L},\n",
    "\\end{equation}\n",
    "\n",
    "where $\\tilde{r}_n$ is the location of the nth order peak and $L$ is the sample-to-detector distance. The units of $\\tilde{r}_n$ and $L$ must match. We use inverse Angstroms for $q_n$ units."
   ]
  },
  {
   "cell_type": "markdown",
   "id": "9832db7d",
   "metadata": {},
   "source": [
    "## Derivations\n",
    "\n",
    "The goal is to obtain an expression for $L$, the sample-to-detector distance.\n",
    "\n",
    "Solve for $\\theta$ in the expression for $q_n$ above:\n",
    "\n",
    "\\begin{equation}\n",
    "    \\theta_n = \\sin^{-1}{\\frac{q_n\\lambda}{4\\pi}}\n",
    "\\end{equation}\n",
    "\n",
    "Now make the assumption that our calibration sample is good and set $\\tilde{\\theta}_n = \\theta_n$, in the second equation above, yielding\n",
    "\\begin{equation}\n",
    "    \\frac{\\tilde{r}_n}{L} = \\tan{2\\theta_n} = \\tan{\\left[2\\sin^{-1}{\\left[\\frac{q_n\\lambda}{4\\pi}\\right]}\\right]}\n",
    "\\end{equation}"
   ]
  },
  {
   "cell_type": "markdown",
   "id": "ec6e0d3b",
   "metadata": {},
   "source": [
    "## Linear regression\n",
    "\n",
    "Given $\\tilde{r_n}$, we need $L$ to be able to calculate $\\tilde{q}_n$. Since we have $N$ measurements, $\\tilde{r}_n$ for $n = 1, ..., N$, we can have $y = mx$,  where $y = \\tan{2\\theta_n}$, and $x = \\tilde{r}_n$, and $m=1/L$."
   ]
  }
 ],
 "metadata": {
  "kernelspec": {
   "display_name": "Python 3 (ipykernel)",
   "language": "python",
   "name": "python3"
  },
  "language_info": {
   "codemirror_mode": {
    "name": "ipython",
    "version": 3
   },
   "file_extension": ".py",
   "mimetype": "text/x-python",
   "name": "python",
   "nbconvert_exporter": "python",
   "pygments_lexer": "ipython3",
   "version": "3.10.4"
  }
 },
 "nbformat": 4,
 "nbformat_minor": 5
}
